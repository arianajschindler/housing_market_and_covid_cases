{
  "nbformat": 4,
  "nbformat_minor": 0,
  "metadata": {
    "colab": {
      "name": "housing_covid.ipynb",
      "provenance": [],
      "mount_file_id": "1p4DsCYxYOwlX0-IftpJkVWoQsc3Yh1Tk",
      "authorship_tag": "ABX9TyNiYxWQykZ8mTcaNPJQim3m",
      "include_colab_link": true
    },
    "kernelspec": {
      "name": "python3",
      "display_name": "Python 3"
    },
    "language_info": {
      "name": "python"
    }
  },
  "cells": [
    {
      "cell_type": "markdown",
      "metadata": {
        "id": "view-in-github",
        "colab_type": "text"
      },
      "source": [
        "<a href=\"https://colab.research.google.com/github/arianajschindler/housing_market_and_covid_cases/blob/main/housing_covid.ipynb\" target=\"_parent\"><img src=\"https://colab.research.google.com/assets/colab-badge.svg\" alt=\"Open In Colab\"/></a>"
      ]
    },
    {
      "cell_type": "markdown",
      "source": [
        "# Housing Index and COVID-19 Cases Analysis (ongoing, last updated 03/04/2022)"
      ],
      "metadata": {
        "id": "JhxXjYjlPArn"
      }
    },
    {
      "cell_type": "markdown",
      "source": [
        "My outcome variable is average US housing index price. I have data that dates back to 2001 for variables such as average housing index, unemployment rate, population, layoffs and discharges, hires, working age population, and initial claims. My covid data includes the variables total cases, median new cases, total covid deaths, median new deaths, positive rate, total vaccinations, and people fully vaccinated."
      ],
      "metadata": {
        "id": "q-zB-ExA6oeZ"
      }
    },
    {
      "cell_type": "code",
      "execution_count": 18,
      "metadata": {
        "colab": {
          "base_uri": "https://localhost:8080/"
        },
        "id": "8_EwcqA5BQJT",
        "outputId": "017c3752-bb9f-42ed-a0f7-26f7c30b25e1"
      },
      "outputs": [
        {
          "output_type": "stream",
          "name": "stdout",
          "text": [
            "Drive already mounted at /gdrive; to attempt to forcibly remount, call drive.mount(\"/gdrive\", force_remount=True).\n"
          ]
        }
      ],
      "source": [
        "# mounting the google drive\n",
        "from google.colab import drive\n",
        "drive.mount('/gdrive')"
      ]
    },
    {
      "cell_type": "code",
      "source": [
        "# importing data\n",
        "import pandas as pd\n",
        "data = pd.read_csv('/gdrive/MyDrive/BioStat/biostat_project_data.csv')\n",
        "data.head()"
      ],
      "metadata": {
        "colab": {
          "base_uri": "https://localhost:8080/",
          "height": 270
        },
        "id": "C2WMnrbsBZ9M",
        "outputId": "6c9f61c2-d771-4772-9310-e979e4afd0e0"
      },
      "execution_count": 19,
      "outputs": [
        {
          "output_type": "execute_result",
          "data": {
            "text/html": [
              "\n",
              "  <div id=\"df-04dcd979-d72e-4a1a-ba7e-feb3d45e5f21\">\n",
              "    <div class=\"colab-df-container\">\n",
              "      <div>\n",
              "<style scoped>\n",
              "    .dataframe tbody tr th:only-of-type {\n",
              "        vertical-align: middle;\n",
              "    }\n",
              "\n",
              "    .dataframe tbody tr th {\n",
              "        vertical-align: top;\n",
              "    }\n",
              "\n",
              "    .dataframe thead th {\n",
              "        text-align: right;\n",
              "    }\n",
              "</style>\n",
              "<table border=\"1\" class=\"dataframe\">\n",
              "  <thead>\n",
              "    <tr style=\"text-align: right;\">\n",
              "      <th></th>\n",
              "      <th>observation_date</th>\n",
              "      <th>avg_us_housing</th>\n",
              "      <th>unemployment_rate</th>\n",
              "      <th>pop_in_thousands</th>\n",
              "      <th>layoffs_and_discharges</th>\n",
              "      <th>hires</th>\n",
              "      <th>total_cases</th>\n",
              "      <th>median_new_cases</th>\n",
              "      <th>total_covid_deaths</th>\n",
              "      <th>median_new_deaths</th>\n",
              "      <th>positive_rate</th>\n",
              "      <th>total_vaccinations</th>\n",
              "      <th>people_fully_vaccinated</th>\n",
              "      <th>working_age_population</th>\n",
              "      <th>initial_claims</th>\n",
              "    </tr>\n",
              "  </thead>\n",
              "  <tbody>\n",
              "    <tr>\n",
              "      <th>0</th>\n",
              "      <td>1/1/2001</td>\n",
              "      <td>135714</td>\n",
              "      <td>4.2</td>\n",
              "      <td>283960</td>\n",
              "      <td>2220</td>\n",
              "      <td>5722</td>\n",
              "      <td>0</td>\n",
              "      <td>0.0</td>\n",
              "      <td>0</td>\n",
              "      <td>0.0</td>\n",
              "      <td>0.0</td>\n",
              "      <td>0</td>\n",
              "      <td>0</td>\n",
              "      <td>180406427.5</td>\n",
              "      <td>353000</td>\n",
              "    </tr>\n",
              "    <tr>\n",
              "      <th>1</th>\n",
              "      <td>2/1/2001</td>\n",
              "      <td>136448</td>\n",
              "      <td>4.2</td>\n",
              "      <td>284166</td>\n",
              "      <td>1855</td>\n",
              "      <td>5303</td>\n",
              "      <td>0</td>\n",
              "      <td>0.0</td>\n",
              "      <td>0</td>\n",
              "      <td>0.0</td>\n",
              "      <td>0.0</td>\n",
              "      <td>0</td>\n",
              "      <td>0</td>\n",
              "      <td>180565764.4</td>\n",
              "      <td>340000</td>\n",
              "    </tr>\n",
              "    <tr>\n",
              "      <th>2</th>\n",
              "      <td>3/1/2001</td>\n",
              "      <td>137194</td>\n",
              "      <td>4.3</td>\n",
              "      <td>284380</td>\n",
              "      <td>2133</td>\n",
              "      <td>5528</td>\n",
              "      <td>0</td>\n",
              "      <td>0.0</td>\n",
              "      <td>0</td>\n",
              "      <td>0.0</td>\n",
              "      <td>0.0</td>\n",
              "      <td>0</td>\n",
              "      <td>0</td>\n",
              "      <td>180629968.9</td>\n",
              "      <td>370500</td>\n",
              "    </tr>\n",
              "    <tr>\n",
              "      <th>3</th>\n",
              "      <td>4/1/2001</td>\n",
              "      <td>137991</td>\n",
              "      <td>4.4</td>\n",
              "      <td>284602</td>\n",
              "      <td>1883</td>\n",
              "      <td>5204</td>\n",
              "      <td>0</td>\n",
              "      <td>0.0</td>\n",
              "      <td>0</td>\n",
              "      <td>0.0</td>\n",
              "      <td>0.0</td>\n",
              "      <td>0</td>\n",
              "      <td>0</td>\n",
              "      <td>180904789.2</td>\n",
              "      <td>388000</td>\n",
              "    </tr>\n",
              "    <tr>\n",
              "      <th>4</th>\n",
              "      <td>5/1/2001</td>\n",
              "      <td>138812</td>\n",
              "      <td>4.3</td>\n",
              "      <td>284834</td>\n",
              "      <td>2029</td>\n",
              "      <td>5410</td>\n",
              "      <td>0</td>\n",
              "      <td>0.0</td>\n",
              "      <td>0</td>\n",
              "      <td>0.0</td>\n",
              "      <td>0.0</td>\n",
              "      <td>0</td>\n",
              "      <td>0</td>\n",
              "      <td>181014919.9</td>\n",
              "      <td>399000</td>\n",
              "    </tr>\n",
              "  </tbody>\n",
              "</table>\n",
              "</div>\n",
              "      <button class=\"colab-df-convert\" onclick=\"convertToInteractive('df-04dcd979-d72e-4a1a-ba7e-feb3d45e5f21')\"\n",
              "              title=\"Convert this dataframe to an interactive table.\"\n",
              "              style=\"display:none;\">\n",
              "        \n",
              "  <svg xmlns=\"http://www.w3.org/2000/svg\" height=\"24px\"viewBox=\"0 0 24 24\"\n",
              "       width=\"24px\">\n",
              "    <path d=\"M0 0h24v24H0V0z\" fill=\"none\"/>\n",
              "    <path d=\"M18.56 5.44l.94 2.06.94-2.06 2.06-.94-2.06-.94-.94-2.06-.94 2.06-2.06.94zm-11 1L8.5 8.5l.94-2.06 2.06-.94-2.06-.94L8.5 2.5l-.94 2.06-2.06.94zm10 10l.94 2.06.94-2.06 2.06-.94-2.06-.94-.94-2.06-.94 2.06-2.06.94z\"/><path d=\"M17.41 7.96l-1.37-1.37c-.4-.4-.92-.59-1.43-.59-.52 0-1.04.2-1.43.59L10.3 9.45l-7.72 7.72c-.78.78-.78 2.05 0 2.83L4 21.41c.39.39.9.59 1.41.59.51 0 1.02-.2 1.41-.59l7.78-7.78 2.81-2.81c.8-.78.8-2.07 0-2.86zM5.41 20L4 18.59l7.72-7.72 1.47 1.35L5.41 20z\"/>\n",
              "  </svg>\n",
              "      </button>\n",
              "      \n",
              "  <style>\n",
              "    .colab-df-container {\n",
              "      display:flex;\n",
              "      flex-wrap:wrap;\n",
              "      gap: 12px;\n",
              "    }\n",
              "\n",
              "    .colab-df-convert {\n",
              "      background-color: #E8F0FE;\n",
              "      border: none;\n",
              "      border-radius: 50%;\n",
              "      cursor: pointer;\n",
              "      display: none;\n",
              "      fill: #1967D2;\n",
              "      height: 32px;\n",
              "      padding: 0 0 0 0;\n",
              "      width: 32px;\n",
              "    }\n",
              "\n",
              "    .colab-df-convert:hover {\n",
              "      background-color: #E2EBFA;\n",
              "      box-shadow: 0px 1px 2px rgba(60, 64, 67, 0.3), 0px 1px 3px 1px rgba(60, 64, 67, 0.15);\n",
              "      fill: #174EA6;\n",
              "    }\n",
              "\n",
              "    [theme=dark] .colab-df-convert {\n",
              "      background-color: #3B4455;\n",
              "      fill: #D2E3FC;\n",
              "    }\n",
              "\n",
              "    [theme=dark] .colab-df-convert:hover {\n",
              "      background-color: #434B5C;\n",
              "      box-shadow: 0px 1px 3px 1px rgba(0, 0, 0, 0.15);\n",
              "      filter: drop-shadow(0px 1px 2px rgba(0, 0, 0, 0.3));\n",
              "      fill: #FFFFFF;\n",
              "    }\n",
              "  </style>\n",
              "\n",
              "      <script>\n",
              "        const buttonEl =\n",
              "          document.querySelector('#df-04dcd979-d72e-4a1a-ba7e-feb3d45e5f21 button.colab-df-convert');\n",
              "        buttonEl.style.display =\n",
              "          google.colab.kernel.accessAllowed ? 'block' : 'none';\n",
              "\n",
              "        async function convertToInteractive(key) {\n",
              "          const element = document.querySelector('#df-04dcd979-d72e-4a1a-ba7e-feb3d45e5f21');\n",
              "          const dataTable =\n",
              "            await google.colab.kernel.invokeFunction('convertToInteractive',\n",
              "                                                     [key], {});\n",
              "          if (!dataTable) return;\n",
              "\n",
              "          const docLinkHtml = 'Like what you see? Visit the ' +\n",
              "            '<a target=\"_blank\" href=https://colab.research.google.com/notebooks/data_table.ipynb>data table notebook</a>'\n",
              "            + ' to learn more about interactive tables.';\n",
              "          element.innerHTML = '';\n",
              "          dataTable['output_type'] = 'display_data';\n",
              "          await google.colab.output.renderOutput(dataTable, element);\n",
              "          const docLink = document.createElement('div');\n",
              "          docLink.innerHTML = docLinkHtml;\n",
              "          element.appendChild(docLink);\n",
              "        }\n",
              "      </script>\n",
              "    </div>\n",
              "  </div>\n",
              "  "
            ],
            "text/plain": [
              "  observation_date  avg_us_housing  unemployment_rate  pop_in_thousands  \\\n",
              "0         1/1/2001          135714                4.2            283960   \n",
              "1         2/1/2001          136448                4.2            284166   \n",
              "2         3/1/2001          137194                4.3            284380   \n",
              "3         4/1/2001          137991                4.4            284602   \n",
              "4         5/1/2001          138812                4.3            284834   \n",
              "\n",
              "   layoffs_and_discharges  hires  total_cases  median_new_cases  \\\n",
              "0                    2220   5722            0               0.0   \n",
              "1                    1855   5303            0               0.0   \n",
              "2                    2133   5528            0               0.0   \n",
              "3                    1883   5204            0               0.0   \n",
              "4                    2029   5410            0               0.0   \n",
              "\n",
              "   total_covid_deaths  median_new_deaths  positive_rate  total_vaccinations  \\\n",
              "0                   0                0.0            0.0                   0   \n",
              "1                   0                0.0            0.0                   0   \n",
              "2                   0                0.0            0.0                   0   \n",
              "3                   0                0.0            0.0                   0   \n",
              "4                   0                0.0            0.0                   0   \n",
              "\n",
              "   people_fully_vaccinated  working_age_population  initial_claims  \n",
              "0                        0             180406427.5          353000  \n",
              "1                        0             180565764.4          340000  \n",
              "2                        0             180629968.9          370500  \n",
              "3                        0             180904789.2          388000  \n",
              "4                        0             181014919.9          399000  "
            ]
          },
          "metadata": {},
          "execution_count": 19
        }
      ]
    },
    {
      "cell_type": "code",
      "source": [
        "# checking the shape of the data\n",
        "data.shape"
      ],
      "metadata": {
        "colab": {
          "base_uri": "https://localhost:8080/"
        },
        "id": "fBhmdC5Bjm2C",
        "outputId": "88aa4881-0c36-41bc-d17c-7f9f96c47494"
      },
      "execution_count": 20,
      "outputs": [
        {
          "output_type": "execute_result",
          "data": {
            "text/plain": [
              "(252, 15)"
            ]
          },
          "metadata": {},
          "execution_count": 20
        }
      ]
    },
    {
      "cell_type": "code",
      "source": [
        "# checking the data types of the variables in the dataset\n",
        "data.dtypes"
      ],
      "metadata": {
        "colab": {
          "base_uri": "https://localhost:8080/"
        },
        "id": "fvg-h_teFY3l",
        "outputId": "37d8ac61-c672-48cc-95c8-be42b6079c84"
      },
      "execution_count": 21,
      "outputs": [
        {
          "output_type": "execute_result",
          "data": {
            "text/plain": [
              "observation_date            object\n",
              "avg_us_housing               int64\n",
              "unemployment_rate          float64\n",
              "pop_in_thousands             int64\n",
              "layoffs_and_discharges       int64\n",
              "hires                        int64\n",
              "total_cases                  int64\n",
              "median_new_cases           float64\n",
              "total_covid_deaths           int64\n",
              "median_new_deaths          float64\n",
              "positive_rate              float64\n",
              "total_vaccinations           int64\n",
              "people_fully_vaccinated      int64\n",
              "working_age_population     float64\n",
              "initial_claims               int64\n",
              "dtype: object"
            ]
          },
          "metadata": {},
          "execution_count": 21
        }
      ]
    },
    {
      "cell_type": "code",
      "source": [
        "data.describe()"
      ],
      "metadata": {
        "colab": {
          "base_uri": "https://localhost:8080/",
          "height": 364
        },
        "id": "hj-jHVAIHqi3",
        "outputId": "82d09591-d829-495d-d681-6513301a214e"
      },
      "execution_count": 22,
      "outputs": [
        {
          "output_type": "execute_result",
          "data": {
            "text/html": [
              "\n",
              "  <div id=\"df-7fa60cd1-d190-4acb-9ca2-2b76a1ba3b30\">\n",
              "    <div class=\"colab-df-container\">\n",
              "      <div>\n",
              "<style scoped>\n",
              "    .dataframe tbody tr th:only-of-type {\n",
              "        vertical-align: middle;\n",
              "    }\n",
              "\n",
              "    .dataframe tbody tr th {\n",
              "        vertical-align: top;\n",
              "    }\n",
              "\n",
              "    .dataframe thead th {\n",
              "        text-align: right;\n",
              "    }\n",
              "</style>\n",
              "<table border=\"1\" class=\"dataframe\">\n",
              "  <thead>\n",
              "    <tr style=\"text-align: right;\">\n",
              "      <th></th>\n",
              "      <th>avg_us_housing</th>\n",
              "      <th>unemployment_rate</th>\n",
              "      <th>pop_in_thousands</th>\n",
              "      <th>layoffs_and_discharges</th>\n",
              "      <th>hires</th>\n",
              "      <th>total_cases</th>\n",
              "      <th>median_new_cases</th>\n",
              "      <th>total_covid_deaths</th>\n",
              "      <th>median_new_deaths</th>\n",
              "      <th>positive_rate</th>\n",
              "      <th>total_vaccinations</th>\n",
              "      <th>people_fully_vaccinated</th>\n",
              "      <th>working_age_population</th>\n",
              "      <th>initial_claims</th>\n",
              "    </tr>\n",
              "  </thead>\n",
              "  <tbody>\n",
              "    <tr>\n",
              "      <th>count</th>\n",
              "      <td>252.000000</td>\n",
              "      <td>252.000000</td>\n",
              "      <td>252.000000</td>\n",
              "      <td>252.000000</td>\n",
              "      <td>252.000000</td>\n",
              "      <td>2.520000e+02</td>\n",
              "      <td>252.000000</td>\n",
              "      <td>252.000000</td>\n",
              "      <td>252.000000</td>\n",
              "      <td>252.000000</td>\n",
              "      <td>2.520000e+02</td>\n",
              "      <td>2.520000e+02</td>\n",
              "      <td>2.520000e+02</td>\n",
              "      <td>2.520000e+02</td>\n",
              "    </tr>\n",
              "    <tr>\n",
              "      <th>mean</th>\n",
              "      <td>197834.607143</td>\n",
              "      <td>6.052778</td>\n",
              "      <td>310603.750000</td>\n",
              "      <td>1960.130952</td>\n",
              "      <td>5083.781746</td>\n",
              "      <td>1.849657e+06</td>\n",
              "      <td>6306.045635</td>\n",
              "      <td>33734.936508</td>\n",
              "      <td>108.152778</td>\n",
              "      <td>0.006407</td>\n",
              "      <td>1.293647e+07</td>\n",
              "      <td>5.789993e+06</td>\n",
              "      <td>1.981409e+08</td>\n",
              "      <td>4.001974e+05</td>\n",
              "    </tr>\n",
              "    <tr>\n",
              "      <th>std</th>\n",
              "      <td>37096.463360</td>\n",
              "      <td>1.939820</td>\n",
              "      <td>14405.935712</td>\n",
              "      <td>866.202093</td>\n",
              "      <td>671.254469</td>\n",
              "      <td>7.717015e+06</td>\n",
              "      <td>27062.396430</td>\n",
              "      <td>132128.387194</td>\n",
              "      <td>438.311503</td>\n",
              "      <td>0.023993</td>\n",
              "      <td>6.671286e+07</td>\n",
              "      <td>3.039788e+07</td>\n",
              "      <td>7.697316e+06</td>\n",
              "      <td>3.320899e+05</td>\n",
              "    </tr>\n",
              "    <tr>\n",
              "      <th>min</th>\n",
              "      <td>135714.000000</td>\n",
              "      <td>3.500000</td>\n",
              "      <td>283960.000000</td>\n",
              "      <td>1169.000000</td>\n",
              "      <td>3639.000000</td>\n",
              "      <td>0.000000e+00</td>\n",
              "      <td>0.000000</td>\n",
              "      <td>0.000000</td>\n",
              "      <td>0.000000</td>\n",
              "      <td>0.000000</td>\n",
              "      <td>0.000000e+00</td>\n",
              "      <td>0.000000e+00</td>\n",
              "      <td>1.804064e+08</td>\n",
              "      <td>2.100000e+05</td>\n",
              "    </tr>\n",
              "    <tr>\n",
              "      <th>25%</th>\n",
              "      <td>170297.500000</td>\n",
              "      <td>4.700000</td>\n",
              "      <td>298115.000000</td>\n",
              "      <td>1775.750000</td>\n",
              "      <td>4620.000000</td>\n",
              "      <td>0.000000e+00</td>\n",
              "      <td>0.000000</td>\n",
              "      <td>0.000000</td>\n",
              "      <td>0.000000</td>\n",
              "      <td>0.000000</td>\n",
              "      <td>0.000000e+00</td>\n",
              "      <td>0.000000e+00</td>\n",
              "      <td>1.927869e+08</td>\n",
              "      <td>2.900000e+05</td>\n",
              "    </tr>\n",
              "    <tr>\n",
              "      <th>50%</th>\n",
              "      <td>191823.500000</td>\n",
              "      <td>5.600000</td>\n",
              "      <td>311974.500000</td>\n",
              "      <td>1882.000000</td>\n",
              "      <td>5137.000000</td>\n",
              "      <td>0.000000e+00</td>\n",
              "      <td>0.000000</td>\n",
              "      <td>0.000000</td>\n",
              "      <td>0.000000</td>\n",
              "      <td>0.000000</td>\n",
              "      <td>0.000000e+00</td>\n",
              "      <td>0.000000e+00</td>\n",
              "      <td>2.000266e+08</td>\n",
              "      <td>3.465000e+05</td>\n",
              "    </tr>\n",
              "    <tr>\n",
              "      <th>75%</th>\n",
              "      <td>216171.750000</td>\n",
              "      <td>7.200000</td>\n",
              "      <td>323729.000000</td>\n",
              "      <td>1991.750000</td>\n",
              "      <td>5460.000000</td>\n",
              "      <td>0.000000e+00</td>\n",
              "      <td>0.000000</td>\n",
              "      <td>0.000000</td>\n",
              "      <td>0.000000</td>\n",
              "      <td>0.000000</td>\n",
              "      <td>0.000000e+00</td>\n",
              "      <td>0.000000e+00</td>\n",
              "      <td>2.052588e+08</td>\n",
              "      <td>4.091250e+05</td>\n",
              "    </tr>\n",
              "    <tr>\n",
              "      <th>max</th>\n",
              "      <td>320662.000000</td>\n",
              "      <td>14.700000</td>\n",
              "      <td>331895.000000</td>\n",
              "      <td>13046.000000</td>\n",
              "      <td>8272.000000</td>\n",
              "      <td>4.871933e+07</td>\n",
              "      <td>219577.000000</td>\n",
              "      <td>783743.000000</td>\n",
              "      <td>3577.000000</td>\n",
              "      <td>0.195500</td>\n",
              "      <td>4.721985e+08</td>\n",
              "      <td>2.000267e+08</td>\n",
              "      <td>2.067926e+08</td>\n",
              "      <td>4.535500e+06</td>\n",
              "    </tr>\n",
              "  </tbody>\n",
              "</table>\n",
              "</div>\n",
              "      <button class=\"colab-df-convert\" onclick=\"convertToInteractive('df-7fa60cd1-d190-4acb-9ca2-2b76a1ba3b30')\"\n",
              "              title=\"Convert this dataframe to an interactive table.\"\n",
              "              style=\"display:none;\">\n",
              "        \n",
              "  <svg xmlns=\"http://www.w3.org/2000/svg\" height=\"24px\"viewBox=\"0 0 24 24\"\n",
              "       width=\"24px\">\n",
              "    <path d=\"M0 0h24v24H0V0z\" fill=\"none\"/>\n",
              "    <path d=\"M18.56 5.44l.94 2.06.94-2.06 2.06-.94-2.06-.94-.94-2.06-.94 2.06-2.06.94zm-11 1L8.5 8.5l.94-2.06 2.06-.94-2.06-.94L8.5 2.5l-.94 2.06-2.06.94zm10 10l.94 2.06.94-2.06 2.06-.94-2.06-.94-.94-2.06-.94 2.06-2.06.94z\"/><path d=\"M17.41 7.96l-1.37-1.37c-.4-.4-.92-.59-1.43-.59-.52 0-1.04.2-1.43.59L10.3 9.45l-7.72 7.72c-.78.78-.78 2.05 0 2.83L4 21.41c.39.39.9.59 1.41.59.51 0 1.02-.2 1.41-.59l7.78-7.78 2.81-2.81c.8-.78.8-2.07 0-2.86zM5.41 20L4 18.59l7.72-7.72 1.47 1.35L5.41 20z\"/>\n",
              "  </svg>\n",
              "      </button>\n",
              "      \n",
              "  <style>\n",
              "    .colab-df-container {\n",
              "      display:flex;\n",
              "      flex-wrap:wrap;\n",
              "      gap: 12px;\n",
              "    }\n",
              "\n",
              "    .colab-df-convert {\n",
              "      background-color: #E8F0FE;\n",
              "      border: none;\n",
              "      border-radius: 50%;\n",
              "      cursor: pointer;\n",
              "      display: none;\n",
              "      fill: #1967D2;\n",
              "      height: 32px;\n",
              "      padding: 0 0 0 0;\n",
              "      width: 32px;\n",
              "    }\n",
              "\n",
              "    .colab-df-convert:hover {\n",
              "      background-color: #E2EBFA;\n",
              "      box-shadow: 0px 1px 2px rgba(60, 64, 67, 0.3), 0px 1px 3px 1px rgba(60, 64, 67, 0.15);\n",
              "      fill: #174EA6;\n",
              "    }\n",
              "\n",
              "    [theme=dark] .colab-df-convert {\n",
              "      background-color: #3B4455;\n",
              "      fill: #D2E3FC;\n",
              "    }\n",
              "\n",
              "    [theme=dark] .colab-df-convert:hover {\n",
              "      background-color: #434B5C;\n",
              "      box-shadow: 0px 1px 3px 1px rgba(0, 0, 0, 0.15);\n",
              "      filter: drop-shadow(0px 1px 2px rgba(0, 0, 0, 0.3));\n",
              "      fill: #FFFFFF;\n",
              "    }\n",
              "  </style>\n",
              "\n",
              "      <script>\n",
              "        const buttonEl =\n",
              "          document.querySelector('#df-7fa60cd1-d190-4acb-9ca2-2b76a1ba3b30 button.colab-df-convert');\n",
              "        buttonEl.style.display =\n",
              "          google.colab.kernel.accessAllowed ? 'block' : 'none';\n",
              "\n",
              "        async function convertToInteractive(key) {\n",
              "          const element = document.querySelector('#df-7fa60cd1-d190-4acb-9ca2-2b76a1ba3b30');\n",
              "          const dataTable =\n",
              "            await google.colab.kernel.invokeFunction('convertToInteractive',\n",
              "                                                     [key], {});\n",
              "          if (!dataTable) return;\n",
              "\n",
              "          const docLinkHtml = 'Like what you see? Visit the ' +\n",
              "            '<a target=\"_blank\" href=https://colab.research.google.com/notebooks/data_table.ipynb>data table notebook</a>'\n",
              "            + ' to learn more about interactive tables.';\n",
              "          element.innerHTML = '';\n",
              "          dataTable['output_type'] = 'display_data';\n",
              "          await google.colab.output.renderOutput(dataTable, element);\n",
              "          const docLink = document.createElement('div');\n",
              "          docLink.innerHTML = docLinkHtml;\n",
              "          element.appendChild(docLink);\n",
              "        }\n",
              "      </script>\n",
              "    </div>\n",
              "  </div>\n",
              "  "
            ],
            "text/plain": [
              "       avg_us_housing  unemployment_rate  pop_in_thousands  \\\n",
              "count      252.000000         252.000000        252.000000   \n",
              "mean    197834.607143           6.052778     310603.750000   \n",
              "std      37096.463360           1.939820      14405.935712   \n",
              "min     135714.000000           3.500000     283960.000000   \n",
              "25%     170297.500000           4.700000     298115.000000   \n",
              "50%     191823.500000           5.600000     311974.500000   \n",
              "75%     216171.750000           7.200000     323729.000000   \n",
              "max     320662.000000          14.700000     331895.000000   \n",
              "\n",
              "       layoffs_and_discharges        hires   total_cases  median_new_cases  \\\n",
              "count              252.000000   252.000000  2.520000e+02        252.000000   \n",
              "mean              1960.130952  5083.781746  1.849657e+06       6306.045635   \n",
              "std                866.202093   671.254469  7.717015e+06      27062.396430   \n",
              "min               1169.000000  3639.000000  0.000000e+00          0.000000   \n",
              "25%               1775.750000  4620.000000  0.000000e+00          0.000000   \n",
              "50%               1882.000000  5137.000000  0.000000e+00          0.000000   \n",
              "75%               1991.750000  5460.000000  0.000000e+00          0.000000   \n",
              "max              13046.000000  8272.000000  4.871933e+07     219577.000000   \n",
              "\n",
              "       total_covid_deaths  median_new_deaths  positive_rate  \\\n",
              "count          252.000000         252.000000     252.000000   \n",
              "mean         33734.936508         108.152778       0.006407   \n",
              "std         132128.387194         438.311503       0.023993   \n",
              "min              0.000000           0.000000       0.000000   \n",
              "25%              0.000000           0.000000       0.000000   \n",
              "50%              0.000000           0.000000       0.000000   \n",
              "75%              0.000000           0.000000       0.000000   \n",
              "max         783743.000000        3577.000000       0.195500   \n",
              "\n",
              "       total_vaccinations  people_fully_vaccinated  working_age_population  \\\n",
              "count        2.520000e+02             2.520000e+02            2.520000e+02   \n",
              "mean         1.293647e+07             5.789993e+06            1.981409e+08   \n",
              "std          6.671286e+07             3.039788e+07            7.697316e+06   \n",
              "min          0.000000e+00             0.000000e+00            1.804064e+08   \n",
              "25%          0.000000e+00             0.000000e+00            1.927869e+08   \n",
              "50%          0.000000e+00             0.000000e+00            2.000266e+08   \n",
              "75%          0.000000e+00             0.000000e+00            2.052588e+08   \n",
              "max          4.721985e+08             2.000267e+08            2.067926e+08   \n",
              "\n",
              "       initial_claims  \n",
              "count    2.520000e+02  \n",
              "mean     4.001974e+05  \n",
              "std      3.320899e+05  \n",
              "min      2.100000e+05  \n",
              "25%      2.900000e+05  \n",
              "50%      3.465000e+05  \n",
              "75%      4.091250e+05  \n",
              "max      4.535500e+06  "
            ]
          },
          "metadata": {},
          "execution_count": 22
        }
      ]
    },
    {
      "cell_type": "code",
      "source": [
        "# creating a datetime data type for the observation date variable\n",
        "data['datetime'] = pd.to_datetime(data['observation_date'])"
      ],
      "metadata": {
        "id": "I4FR7hveFn4i"
      },
      "execution_count": 23,
      "outputs": []
    },
    {
      "cell_type": "markdown",
      "source": [
        "## EDA"
      ],
      "metadata": {
        "id": "58u-VLUhN8fJ"
      }
    },
    {
      "cell_type": "code",
      "source": [
        "import seaborn as sns\n",
        "import numpy as np\n",
        "import matplotlib.pyplot as plt\n",
        "from scipy import stats"
      ],
      "metadata": {
        "id": "qwzktEdWj_ge"
      },
      "execution_count": 24,
      "outputs": []
    },
    {
      "cell_type": "code",
      "source": [
        "# creating a heatmap of all of the variables\n",
        "correlation = data.corr()"
      ],
      "metadata": {
        "id": "OuuHWYXVLcuj"
      },
      "execution_count": 25,
      "outputs": []
    },
    {
      "cell_type": "code",
      "source": [
        "# heatmap\n",
        "sns.heatmap(correlation, xticklabels=correlation.columns, yticklabels=correlation.columns, annot=False)"
      ],
      "metadata": {
        "colab": {
          "base_uri": "https://localhost:8080/",
          "height": 398
        },
        "id": "L8xwvu0hLXEi",
        "outputId": "92a11a7d-5ffb-4d23-a4c6-ddb4277695e4"
      },
      "execution_count": 26,
      "outputs": [
        {
          "output_type": "execute_result",
          "data": {
            "text/plain": [
              "<matplotlib.axes._subplots.AxesSubplot at 0x7f23872fd190>"
            ]
          },
          "metadata": {},
          "execution_count": 26
        },
        {
          "output_type": "display_data",
          "data": {
            "image/png": "[encoded data removed]",
            "text/plain": [
              "<Figure size 432x288 with 2 Axes>"
            ]
          },
          "metadata": {
            "needs_background": "light"
          }
        }
      ]
    },
    {
      "cell_type": "code",
      "source": [
        "sns.boxplot(data['initial_claims'])"
      ],
      "metadata": {
        "colab": {
          "base_uri": "https://localhost:8080/",
          "height": 352
        },
        "id": "eD5WQbd2G3n2",
        "outputId": "85d824a5-7a22-4e39-b4f4-0826da37a8c1"
      },
      "execution_count": 27,
      "outputs": [
        {
          "output_type": "stream",
          "name": "stderr",
          "text": [
            "/usr/local/lib/python3.7/dist-packages/seaborn/_decorators.py:43: FutureWarning: Pass the following variable as a keyword arg: x. From version 0.12, the only valid positional argument will be `data`, and passing other arguments without an explicit keyword will result in an error or misinterpretation.\n",
            "  FutureWarning\n"
          ]
        },
        {
          "output_type": "execute_result",
          "data": {
            "text/plain": [
              "<matplotlib.axes._subplots.AxesSubplot at 0x7f238722ec90>"
            ]
          },
          "metadata": {},
          "execution_count": 27
        },
        {
          "output_type": "display_data",
          "data": {
            "image/png": "[encoded data removed]",
            "text/plain": [
              "<Figure size 432x288 with 1 Axes>"
            ]
          },
          "metadata": {
            "needs_background": "light"
          }
        }
      ]
    },
    {
      "cell_type": "markdown",
      "source": [
        "I am going to create a new variable to indicate whether covid cases were being recorded at the time of any relationship I explore."
      ],
      "metadata": {
        "id": "Iaa3WmjeIbFR"
      }
    },
    {
      "cell_type": "code",
      "source": [
        "#a function that creates a binary dummy variable based on the covid variable \n",
        "def clean(row):\n",
        "    if row['total_cases'] == 0:\n",
        "        val = 0\n",
        "    else:\n",
        "        val = 1\n",
        "    return val\n",
        "\n",
        "#adds a new row \n",
        "data['covid_bool'] = data.apply(clean, axis=1)"
      ],
      "metadata": {
        "id": "h_c_EBz-JDE4"
      },
      "execution_count": 28,
      "outputs": []
    },
    {
      "cell_type": "code",
      "source": [
        "sns.histplot(data['avg_us_housing'], bins=20)"
      ],
      "metadata": {
        "colab": {
          "base_uri": "https://localhost:8080/",
          "height": 297
        },
        "id": "CelYX0m-Llqh",
        "outputId": "ba6cbc05-11d3-4e64-c8e2-54b0ad0f057b"
      },
      "execution_count": 29,
      "outputs": [
        {
          "output_type": "execute_result",
          "data": {
            "text/plain": [
              "<matplotlib.axes._subplots.AxesSubplot at 0x7f2386ca0ed0>"
            ]
          },
          "metadata": {},
          "execution_count": 29
        },
        {
          "output_type": "display_data",
          "data": {
            "image/png": "[encoded data removed]",
            "text/plain": [
              "<Figure size 432x288 with 1 Axes>"
            ]
          },
          "metadata": {
            "needs_background": "light"
          }
        }
      ]
    },
    {
      "cell_type": "code",
      "source": [
        "# checking the average housing index, initial claims, layoffs and discharges,\n",
        "# and hires against the covid boolean\n",
        "\n",
        "fig, axes = plt.subplots(1, 4, sharex=True, figsize=(15,3))\n",
        "sns.barplot(ax=axes[0], x=data['covid_bool'], y=data['avg_us_housing'])\n",
        "axes[0].set_title('Housing Index by Covid Bool')\n",
        "\n",
        "sns.barplot(ax=axes[1], x=data['covid_bool'], y=data['initial_claims'])\n",
        "axes[1].set_title('Initial Claims by Covid Bool')\n",
        "\n",
        "sns.barplot(ax=axes[2], x=data['covid_bool'], y=data['layoffs_and_discharges'])\n",
        "axes[2].set_title('Layoffs and Discharges by Covid Bool')\n",
        "\n",
        "sns.barplot(ax=axes[3], x=data['covid_bool'], y=data['hires'])\n",
        "axes[3].set_title('Hires by Covid Bool')"
      ],
      "metadata": {
        "colab": {
          "base_uri": "https://localhost:8080/",
          "height": 259
        },
        "id": "qXHsLcx1MJrd",
        "outputId": "aa9cf3b1-844c-4783-8b9d-5b039d394e0c"
      },
      "execution_count": 30,
      "outputs": [
        {
          "output_type": "execute_result",
          "data": {
            "text/plain": [
              "Text(0.5, 1.0, 'Hires by Covid Bool')"
            ]
          },
          "metadata": {},
          "execution_count": 30
        },
        {
          "output_type": "display_data",
          "data": {
            "image/png": "[encoded data removed]",
            "text/plain": [
              "<Figure size 1080x216 with 4 Axes>"
            ]
          },
          "metadata": {
            "needs_background": "light"
          }
        }
      ]
    },
    {
      "cell_type": "markdown",
      "source": [
        "## Relationship between ave_us_housing and median_new_cases"
      ],
      "metadata": {
        "id": "AhVPcK2VNz5f"
      }
    },
    {
      "cell_type": "code",
      "source": [
        "# visualizing the relationship between the average housing index and median new covid cases\n",
        "\n",
        "plt.scatter(y=data['avg_us_housing'], x=data['median_new_cases'])\n",
        "plt.xlabel('median new cases')\n",
        "plt.ylabel('average US housing index')\n",
        "plt.show()"
      ],
      "metadata": {
        "colab": {
          "base_uri": "https://localhost:8080/",
          "height": 279
        },
        "id": "xr2B3oYCCNHh",
        "outputId": "8a34f51a-193c-4740-85e6-073c528ca57b"
      },
      "execution_count": 31,
      "outputs": [
        {
          "output_type": "display_data",
          "data": {
            "image/png": "[encoded data removed]",
            "text/plain": [
              "<Figure size 432x288 with 1 Axes>"
            ]
          },
          "metadata": {
            "needs_background": "light"
          }
        }
      ]
    },
    {
      "cell_type": "markdown",
      "source": [
        "As seen in the scatterplot above, our data being split between all zeros for covid variables for the first ~18 years of our dataset is going to affect the accuracy of any correlation we run."
      ],
      "metadata": {
        "id": "kYwOVOoG7jtb"
      }
    },
    {
      "cell_type": "code",
      "source": [
        "# correlation between average housing index and median new cases\n",
        "y = data['avg_us_housing']\n",
        "x = data['median_new_cases']\n",
        "stats.pearsonr(x,y)"
      ],
      "metadata": {
        "colab": {
          "base_uri": "https://localhost:8080/"
        },
        "id": "My-As9nEC6_4",
        "outputId": "7e386907-7a59-417d-84cd-0a0cb3eb5178"
      },
      "execution_count": 32,
      "outputs": [
        {
          "output_type": "execute_result",
          "data": {
            "text/plain": [
              "(0.5442410775423651, 7.834765942587669e-21)"
            ]
          },
          "metadata": {},
          "execution_count": 32
        }
      ]
    },
    {
      "cell_type": "markdown",
      "source": [
        "The Pearson test above tells us that there is a strong positive correlation between average housing index and median new cases. However, this does not account for change over time of the housing index variable independently or for the fact that covid data was 0 for ~18 years so we need to test the relationship when there is covid data reported."
      ],
      "metadata": {
        "id": "lvSsNAuA72WI"
      }
    },
    {
      "cell_type": "code",
      "source": [
        "# visualization of housing index over 20 years\n",
        "def plot_housing(data, x, y, title=\"\", xlabel='date', ylabel='housing index', dpi=100):\n",
        "    plt.figure(figsize=(16,5), dpi=dpi)\n",
        "    plt.plot(x, y, color='tab:red')\n",
        "    plt.gca().set(title=title, xlabel=xlabel, ylabel=ylabel)\n",
        "    plt.show()\n",
        "\n",
        "plot_housing(data, x=data.datetime, y=data.avg_us_housing, title='Average Monthly Housing Index from 2001 - 2021') "
      ],
      "metadata": {
        "colab": {
          "base_uri": "https://localhost:8080/",
          "height": 387
        },
        "id": "N4rIBZE2F5AP",
        "outputId": "e5d826fc-c965-4bc4-fe5b-04c3eef2deab"
      },
      "execution_count": 33,
      "outputs": [
        {
          "output_type": "display_data",
          "data": {
            "image/png": "[encoded data removed]",
            "text/plain": [
              "<Figure size 1600x500 with 1 Axes>"
            ]
          },
          "metadata": {
            "needs_background": "light"
          }
        }
      ]
    },
    {
      "cell_type": "code",
      "source": [
        "# isolating data to when covid reporting began\n",
        "data_covid = data[data['total_cases'] != 0]"
      ],
      "metadata": {
        "id": "gDmt9cCAIAjF"
      },
      "execution_count": 34,
      "outputs": []
    },
    {
      "cell_type": "code",
      "source": [
        "# checking how many observations are in the dataset with reported covid data\n",
        "len(data_covid)"
      ],
      "metadata": {
        "colab": {
          "base_uri": "https://localhost:8080/"
        },
        "id": "KZFGfYpNI50c",
        "outputId": "3a2f01fa-6a8b-491b-9a52-c6fb017b71ff"
      },
      "execution_count": 35,
      "outputs": [
        {
          "output_type": "execute_result",
          "data": {
            "text/plain": [
              "23"
            ]
          },
          "metadata": {},
          "execution_count": 35
        }
      ]
    },
    {
      "cell_type": "markdown",
      "source": [
        "The dataset containing reposted covid data only has 23 observations in it. This is going to affect the accuracy of our results since we can't assume normality with obs < 30."
      ],
      "metadata": {
        "id": "APv-IoTz90pV"
      }
    },
    {
      "cell_type": "code",
      "source": [
        "# scatterplot with linear regression line for relationship \n",
        "\n",
        "y=data_covid['avg_us_housing']\n",
        "x=data_covid['median_new_cases']\n",
        "\n",
        "plt.plot(x, y, 'o')\n",
        "m, b = np.polyfit(x,y,1)\n",
        "plt.plot(x, m*x + b)\n",
        "\n",
        "plt.xlabel('median covid cases')\n",
        "plt.ylabel('average US housing index')\n",
        "plt.title('Linear Relationship between cases and housing index')"
      ],
      "metadata": {
        "colab": {
          "base_uri": "https://localhost:8080/",
          "height": 312
        },
        "id": "K7OkQQmY6M90",
        "outputId": "e586f334-8567-4ab5-dc4c-2560d82eb4ad"
      },
      "execution_count": 36,
      "outputs": [
        {
          "output_type": "execute_result",
          "data": {
            "text/plain": [
              "Text(0.5, 1.0, 'Linear Relationship between cases and housing index')"
            ]
          },
          "metadata": {},
          "execution_count": 36
        },
        {
          "output_type": "display_data",
          "data": {
            "image/png": "[encoded data removed]",
            "text/plain": [
              "<Figure size 432x288 with 1 Axes>"
            ]
          },
          "metadata": {
            "needs_background": "light"
          }
        }
      ]
    },
    {
      "cell_type": "code",
      "source": [
        "# correlation between average housing index and median new cases for dataset data_covid\n",
        "y = data_covid['avg_us_housing']\n",
        "x = data_covid['median_new_cases']\n",
        "stats.pearsonr(x,y)"
      ],
      "metadata": {
        "colab": {
          "base_uri": "https://localhost:8080/"
        },
        "id": "LaoNp-kzEuFq",
        "outputId": "9d97bedc-cfa5-4c3f-f024-b36252631a53"
      },
      "execution_count": 37,
      "outputs": [
        {
          "output_type": "execute_result",
          "data": {
            "text/plain": [
              "(0.35361980435555534, 0.09786171920907842)"
            ]
          },
          "metadata": {},
          "execution_count": 37
        }
      ]
    },
    {
      "cell_type": "markdown",
      "source": [
        "With a significance level of aplha=0.05, this test results in no correlation (we also had a small sample size)."
      ],
      "metadata": {
        "id": "-EdphfPm_YaV"
      }
    },
    {
      "cell_type": "code",
      "source": [
        "# visualization of housing index in the timeframe where covid data is available\n",
        "def plot_data(data_covid, x, y, title=\"\", xlabel='date', ylabel='housing index', dpi=100):\n",
        "    plt.figure(figsize=(16,5), dpi=dpi)\n",
        "    plt.plot(x, y, color='tab:red')\n",
        "    plt.gca().set(title=title, xlabel=xlabel, ylabel=ylabel)\n",
        "    plt.show()\n",
        "\n",
        "plot_data(data_covid, x=data_covid.datetime, y=data_covid.avg_us_housing, title='Average Monthly Housing Index during Covid')"
      ],
      "metadata": {
        "colab": {
          "base_uri": "https://localhost:8080/",
          "height": 380
        },
        "id": "bWA2jyiaJpOc",
        "outputId": "4235c08b-25f1-46a0-92f7-c5681c63c66e"
      },
      "execution_count": 38,
      "outputs": [
        {
          "output_type": "display_data",
          "data": {
            "image/png": "[encoded data removed]",
            "text/plain": [
              "<Figure size 1600x500 with 1 Axes>"
            ]
          },
          "metadata": {
            "needs_background": "light"
          }
        }
      ]
    },
    {
      "cell_type": "markdown",
      "source": [
        "For the rate over time considering only the housing variable, I would like to perform a time series analysis. This will be completed in the near future, as I am crafting an analysis plan to proceed."
      ],
      "metadata": {
        "id": "UmzBVLsbE-Zq"
      }
    },
    {
      "cell_type": "code",
      "source": [
        "# using statsmodels to fit the regression model\n",
        "import statsmodels.formula.api as smf\n",
        "res = smf.ols(formula='avg_us_housing ~ covid_bool', data=data).fit() #season instead of month\n",
        "# inspecting the results\n",
        "res.summary()"
      ],
      "metadata": {
        "colab": {
          "base_uri": "https://localhost:8080/",
          "height": 445
        },
        "id": "qkAzdhVBrtPa",
        "outputId": "cb562c3f-be04-4ff6-e7bb-51ca9af9c7f2"
      },
      "execution_count": 40,
      "outputs": [
        {
          "output_type": "execute_result",
          "data": {
            "text/html": [
              "<table class=\"simpletable\">\n",
              "<caption>OLS Regression Results</caption>\n",
              "<tr>\n",
              "  <th>Dep. Variable:</th>     <td>avg_us_housing</td>  <th>  R-squared:         </th> <td>   0.460</td>\n",
              "</tr>\n",
              "<tr>\n",
              "  <th>Model:</th>                   <td>OLS</td>       <th>  Adj. R-squared:    </th> <td>   0.458</td>\n",
              "</tr>\n",
              "<tr>\n",
              "  <th>Method:</th>             <td>Least Squares</td>  <th>  F-statistic:       </th> <td>   212.7</td>\n",
              "</tr>\n",
              "<tr>\n",
              "  <th>Date:</th>             <td>Fri, 04 Mar 2022</td> <th>  Prob (F-statistic):</th> <td>2.78e-35</td>\n",
              "</tr>\n",
              "<tr>\n",
              "  <th>Time:</th>                 <td>20:51:38</td>     <th>  Log-Likelihood:    </th> <td> -2930.9</td>\n",
              "</tr>\n",
              "<tr>\n",
              "  <th>No. Observations:</th>      <td>   252</td>      <th>  AIC:               </th> <td>   5866.</td>\n",
              "</tr>\n",
              "<tr>\n",
              "  <th>Df Residuals:</th>          <td>   250</td>      <th>  BIC:               </th> <td>   5873.</td>\n",
              "</tr>\n",
              "<tr>\n",
              "  <th>Df Model:</th>              <td>     1</td>      <th>                     </th>     <td> </td>   \n",
              "</tr>\n",
              "<tr>\n",
              "  <th>Covariance Type:</th>      <td>nonrobust</td>    <th>                     </th>     <td> </td>   \n",
              "</tr>\n",
              "</table>\n",
              "<table class=\"simpletable\">\n",
              "<tr>\n",
              "       <td></td>         <th>coef</th>     <th>std err</th>      <th>t</th>      <th>P>|t|</th>  <th>[0.025</th>    <th>0.975]</th>  \n",
              "</tr>\n",
              "<tr>\n",
              "  <th>Intercept</th>  <td> 1.899e+05</td> <td> 1805.437</td> <td>  105.171</td> <td> 0.000</td> <td> 1.86e+05</td> <td> 1.93e+05</td>\n",
              "</tr>\n",
              "<tr>\n",
              "  <th>covid_bool</th> <td> 8.717e+04</td> <td> 5976.113</td> <td>   14.586</td> <td> 0.000</td> <td> 7.54e+04</td> <td> 9.89e+04</td>\n",
              "</tr>\n",
              "</table>\n",
              "<table class=\"simpletable\">\n",
              "<tr>\n",
              "  <th>Omnibus:</th>       <td>12.757</td> <th>  Durbin-Watson:     </th> <td>   0.043</td>\n",
              "</tr>\n",
              "<tr>\n",
              "  <th>Prob(Omnibus):</th> <td> 0.002</td> <th>  Jarque-Bera (JB):  </th> <td>   6.530</td>\n",
              "</tr>\n",
              "<tr>\n",
              "  <th>Skew:</th>          <td> 0.182</td> <th>  Prob(JB):          </th> <td>  0.0382</td>\n",
              "</tr>\n",
              "<tr>\n",
              "  <th>Kurtosis:</th>      <td> 2.300</td> <th>  Cond. No.          </th> <td>    3.50</td>\n",
              "</tr>\n",
              "</table><br/><br/>Warnings:<br/>[1] Standard Errors assume that the covariance matrix of the errors is correctly specified."
            ],
            "text/plain": [
              "<class 'statsmodels.iolib.summary.Summary'>\n",
              "\"\"\"\n",
              "                            OLS Regression Results                            \n",
              "==============================================================================\n",
              "Dep. Variable:         avg_us_housing   R-squared:                       0.460\n",
              "Model:                            OLS   Adj. R-squared:                  0.458\n",
              "Method:                 Least Squares   F-statistic:                     212.7\n",
              "Date:                Fri, 04 Mar 2022   Prob (F-statistic):           2.78e-35\n",
              "Time:                        20:51:38   Log-Likelihood:                -2930.9\n",
              "No. Observations:                 252   AIC:                             5866.\n",
              "Df Residuals:                     250   BIC:                             5873.\n",
              "Df Model:                           1                                         \n",
              "Covariance Type:            nonrobust                                         \n",
              "==============================================================================\n",
              "                 coef    std err          t      P>|t|      [0.025      0.975]\n",
              "------------------------------------------------------------------------------\n",
              "Intercept   1.899e+05   1805.437    105.171      0.000    1.86e+05    1.93e+05\n",
              "covid_bool  8.717e+04   5976.113     14.586      0.000    7.54e+04    9.89e+04\n",
              "==============================================================================\n",
              "Omnibus:                       12.757   Durbin-Watson:                   0.043\n",
              "Prob(Omnibus):                  0.002   Jarque-Bera (JB):                6.530\n",
              "Skew:                           0.182   Prob(JB):                       0.0382\n",
              "Kurtosis:                       2.300   Cond. No.                         3.50\n",
              "==============================================================================\n",
              "\n",
              "Warnings:\n",
              "[1] Standard Errors assume that the covariance matrix of the errors is correctly specified.\n",
              "\"\"\""
            ]
          },
          "metadata": {},
          "execution_count": 40
        }
      ]
    },
    {
      "cell_type": "code",
      "source": [
        "# add the constant to the x variable you previously defined\n",
        "import statsmodels.api as sm\n",
        "x = data['covid_bool']\n",
        "y = data['avg_us_housing']\n",
        "\n",
        "X = sm.add_constant(x)\n",
        "Y = y\n",
        "\n",
        "# define the content of the model\n",
        "mod = sm.OLS(Y,X)\n",
        "\n",
        "# store the results of your fitted model\n",
        "res = mod.fit()\n",
        "\n",
        "#create a histogram of the residuals to confirm assumption of normality\n",
        "plt.hist(res.resid)"
      ],
      "metadata": {
        "colab": {
          "base_uri": "https://localhost:8080/",
          "height": 406
        },
        "id": "IVCrzbYlta7O",
        "outputId": "03b821aa-6676-44ac-88cc-56e136bdf4f3"
      },
      "execution_count": 42,
      "outputs": [
        {
          "output_type": "stream",
          "name": "stderr",
          "text": [
            "/usr/local/lib/python3.7/dist-packages/statsmodels/tsa/tsatools.py:117: FutureWarning: In a future version of pandas all arguments of concat except for the argument 'objs' will be keyword-only\n",
            "  x = pd.concat(x[::order], 1)\n"
          ]
        },
        {
          "output_type": "execute_result",
          "data": {
            "text/plain": [
              "(array([15., 13., 39., 39., 35., 26., 32., 26., 12., 15.]),\n",
              " array([-54165.02183406, -42880.52183406, -31596.02183406, -20311.52183406,\n",
              "         -9027.02183406,   2257.47816594,  13541.97816594,  24826.47816594,\n",
              "         36110.97816594,  47395.47816594,  58679.97816594]),\n",
              " <a list of 10 Patch objects>)"
            ]
          },
          "metadata": {},
          "execution_count": 42
        },
        {
          "output_type": "display_data",
          "data": {
            "image/png": "[encoded data removed]",
            "text/plain": [
              "<Figure size 432x288 with 1 Axes>"
            ]
          },
          "metadata": {
            "needs_background": "light"
          }
        }
      ]
    },
    {
      "cell_type": "code",
      "source": [
        "plt.scatter(x, y, marker = \"+\")\n",
        "plt.plot([0, 1], [np.mean(data.query('covid_bool == 0').avg_us_housing), np.mean(data.query('covid_bool == 1').avg_us_housing)], 'r--')\n",
        "plt.ylabel(\"average US housing index\")\n",
        "plt.xlabel(\"covid boolean\")\n",
        "plt.show()"
      ],
      "metadata": {
        "colab": {
          "base_uri": "https://localhost:8080/",
          "height": 279
        },
        "id": "fZ4x6Pc_ulw0",
        "outputId": "3c6bbd81-8b30-48e5-8e20-be26c1b5ee36"
      },
      "execution_count": 44,
      "outputs": [
        {
          "output_type": "display_data",
          "data": {
            "image/png": "[encoded data removed]",
            "text/plain": [
              "<Figure size 432x288 with 1 Axes>"
            ]
          },
          "metadata": {
            "needs_background": "light"
          }
        }
      ]
    }
  ]
}